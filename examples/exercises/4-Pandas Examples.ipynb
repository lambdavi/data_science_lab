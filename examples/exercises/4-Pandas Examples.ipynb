{
 "cells": [
  {
   "cell_type": "markdown",
   "metadata": {},
   "source": [
    "# Pandas Examples"
   ]
  },
  {
   "cell_type": "code",
   "execution_count": 2,
   "metadata": {},
   "outputs": [],
   "source": [
    "#Input data\n",
    "import pandas as pd\n",
    "import numpy as np\n",
    "import matplotlib.pyplot as plt"
   ]
  },
  {
   "cell_type": "markdown",
   "metadata": {},
   "source": [
    "## 1) Accessing DataFrames and Series"
   ]
  },
  {
   "cell_type": "code",
   "execution_count": 3,
   "metadata": {},
   "outputs": [],
   "source": [
    "\n",
    "\n",
    "# Input table (12 samples x 4 attributes)\n",
    "X = np.array([[5.1, 3.5, 1, 0.2],\n",
    "           [4.3, 3. , 1, 0.1],\n",
    "           [5. , np.nan, 1, 0.4],\n",
    "           [5.1, 3.4, 2, 0.2],\n",
    "           [7.0, 3.2, 1, 0.2],\n",
    "           [6.9, 3.1, 3, 1.5],\n",
    "           [6.7, 3.1, 1, np.nan],\n",
    "           [6. , 2.9, 2, 1.5],\n",
    "           [6.1, 3. , 2, 1.4],\n",
    "           [6.5, 3. , 3, 2.2],\n",
    "           [7.7, 3.8, 3, 2.2],\n",
    "           [7.4, 2.8, 1, 1.9],\n",
    "           [6.8, 3.2, 1, 2.3]])\n",
    "# Column names\n",
    "columns = ['height','width','intensity','weight']\n",
    "\n",
    "# Class label of each sample\n",
    "labels = np.array([0, 0, 0, 0, 0, 1, 1, 1, 1, 2, 2, 2, 2])"
   ]
  },
  {
   "cell_type": "markdown",
   "metadata": {},
   "source": [
    "**a) Create a DataFrame from a Numpy array (X)**\n",
    "- Setup column names and the class label\n",
    "- Add a new composite feature, 'area' = 'width' * 'height'\n",
    "- Fix missing values with forward fill method"
   ]
  },
  {
   "cell_type": "code",
   "execution_count": 4,
   "metadata": {
    "scrolled": false
   },
   "outputs": [
    {
     "data": {
      "text/html": [
       "<div>\n",
       "<style scoped>\n",
       "    .dataframe tbody tr th:only-of-type {\n",
       "        vertical-align: middle;\n",
       "    }\n",
       "\n",
       "    .dataframe tbody tr th {\n",
       "        vertical-align: top;\n",
       "    }\n",
       "\n",
       "    .dataframe thead th {\n",
       "        text-align: right;\n",
       "    }\n",
       "</style>\n",
       "<table border=\"1\" class=\"dataframe\">\n",
       "  <thead>\n",
       "    <tr style=\"text-align: right;\">\n",
       "      <th></th>\n",
       "      <th>height</th>\n",
       "      <th>width</th>\n",
       "      <th>intensity</th>\n",
       "      <th>weight</th>\n",
       "      <th>label</th>\n",
       "      <th>area</th>\n",
       "    </tr>\n",
       "  </thead>\n",
       "  <tbody>\n",
       "    <tr>\n",
       "      <th>0</th>\n",
       "      <td>5.1</td>\n",
       "      <td>3.5</td>\n",
       "      <td>1.0</td>\n",
       "      <td>0.2</td>\n",
       "      <td>0</td>\n",
       "      <td>17.85</td>\n",
       "    </tr>\n",
       "    <tr>\n",
       "      <th>1</th>\n",
       "      <td>4.3</td>\n",
       "      <td>3.0</td>\n",
       "      <td>1.0</td>\n",
       "      <td>0.1</td>\n",
       "      <td>0</td>\n",
       "      <td>12.90</td>\n",
       "    </tr>\n",
       "    <tr>\n",
       "      <th>2</th>\n",
       "      <td>5.0</td>\n",
       "      <td>3.0</td>\n",
       "      <td>1.0</td>\n",
       "      <td>0.4</td>\n",
       "      <td>0</td>\n",
       "      <td>12.90</td>\n",
       "    </tr>\n",
       "    <tr>\n",
       "      <th>3</th>\n",
       "      <td>5.1</td>\n",
       "      <td>3.4</td>\n",
       "      <td>2.0</td>\n",
       "      <td>0.2</td>\n",
       "      <td>0</td>\n",
       "      <td>17.34</td>\n",
       "    </tr>\n",
       "    <tr>\n",
       "      <th>4</th>\n",
       "      <td>7.0</td>\n",
       "      <td>3.2</td>\n",
       "      <td>1.0</td>\n",
       "      <td>0.2</td>\n",
       "      <td>0</td>\n",
       "      <td>22.40</td>\n",
       "    </tr>\n",
       "    <tr>\n",
       "      <th>5</th>\n",
       "      <td>6.9</td>\n",
       "      <td>3.1</td>\n",
       "      <td>3.0</td>\n",
       "      <td>1.5</td>\n",
       "      <td>1</td>\n",
       "      <td>21.39</td>\n",
       "    </tr>\n",
       "    <tr>\n",
       "      <th>6</th>\n",
       "      <td>6.7</td>\n",
       "      <td>3.1</td>\n",
       "      <td>1.0</td>\n",
       "      <td>1.5</td>\n",
       "      <td>1</td>\n",
       "      <td>20.77</td>\n",
       "    </tr>\n",
       "    <tr>\n",
       "      <th>7</th>\n",
       "      <td>6.0</td>\n",
       "      <td>2.9</td>\n",
       "      <td>2.0</td>\n",
       "      <td>1.5</td>\n",
       "      <td>1</td>\n",
       "      <td>17.40</td>\n",
       "    </tr>\n",
       "    <tr>\n",
       "      <th>8</th>\n",
       "      <td>6.1</td>\n",
       "      <td>3.0</td>\n",
       "      <td>2.0</td>\n",
       "      <td>1.4</td>\n",
       "      <td>1</td>\n",
       "      <td>18.30</td>\n",
       "    </tr>\n",
       "    <tr>\n",
       "      <th>9</th>\n",
       "      <td>6.5</td>\n",
       "      <td>3.0</td>\n",
       "      <td>3.0</td>\n",
       "      <td>2.2</td>\n",
       "      <td>2</td>\n",
       "      <td>19.50</td>\n",
       "    </tr>\n",
       "    <tr>\n",
       "      <th>10</th>\n",
       "      <td>7.7</td>\n",
       "      <td>3.8</td>\n",
       "      <td>3.0</td>\n",
       "      <td>2.2</td>\n",
       "      <td>2</td>\n",
       "      <td>29.26</td>\n",
       "    </tr>\n",
       "    <tr>\n",
       "      <th>11</th>\n",
       "      <td>7.4</td>\n",
       "      <td>2.8</td>\n",
       "      <td>1.0</td>\n",
       "      <td>1.9</td>\n",
       "      <td>2</td>\n",
       "      <td>20.72</td>\n",
       "    </tr>\n",
       "    <tr>\n",
       "      <th>12</th>\n",
       "      <td>6.8</td>\n",
       "      <td>3.2</td>\n",
       "      <td>1.0</td>\n",
       "      <td>2.3</td>\n",
       "      <td>2</td>\n",
       "      <td>21.76</td>\n",
       "    </tr>\n",
       "  </tbody>\n",
       "</table>\n",
       "</div>"
      ],
      "text/plain": [
       "    height  width  intensity  weight  label   area\n",
       "0      5.1    3.5        1.0     0.2      0  17.85\n",
       "1      4.3    3.0        1.0     0.1      0  12.90\n",
       "2      5.0    3.0        1.0     0.4      0  12.90\n",
       "3      5.1    3.4        2.0     0.2      0  17.34\n",
       "4      7.0    3.2        1.0     0.2      0  22.40\n",
       "5      6.9    3.1        3.0     1.5      1  21.39\n",
       "6      6.7    3.1        1.0     1.5      1  20.77\n",
       "7      6.0    2.9        2.0     1.5      1  17.40\n",
       "8      6.1    3.0        2.0     1.4      1  18.30\n",
       "9      6.5    3.0        3.0     2.2      2  19.50\n",
       "10     7.7    3.8        3.0     2.2      2  29.26\n",
       "11     7.4    2.8        1.0     1.9      2  20.72\n",
       "12     6.8    3.2        1.0     2.3      2  21.76"
      ]
     },
     "execution_count": 4,
     "metadata": {},
     "output_type": "execute_result"
    }
   ],
   "source": [
    "df = pd.DataFrame(X, columns=columns)\n",
    "df[\"label\"] = labels\n",
    "df[\"area\"] = df[\"height\"]*df[\"width\"]\n",
    "df.fillna(method=\"ffill\", inplace=True)\n",
    "df"
   ]
  },
  {
   "cell_type": "code",
   "execution_count": 5,
   "metadata": {},
   "outputs": [
    {
     "data": {
      "text/plain": [
       "0     False\n",
       "1     False\n",
       "2     False\n",
       "3      True\n",
       "4     False\n",
       "5      True\n",
       "6     False\n",
       "7      True\n",
       "8      True\n",
       "9      True\n",
       "10     True\n",
       "11    False\n",
       "12    False\n",
       "Name: intensity, dtype: bool"
      ]
     },
     "execution_count": 5,
     "metadata": {},
     "output_type": "execute_result"
    }
   ],
   "source": []
  },
  {
   "cell_type": "markdown",
   "metadata": {},
   "source": [
    "**b) Compute the average area of samples with intensity greater than 1:**"
   ]
  },
  {
   "cell_type": "code",
   "execution_count": 9,
   "metadata": {},
   "outputs": [
    {
     "data": {
      "text/plain": [
       "20.531666666666666"
      ]
     },
     "execution_count": 9,
     "metadata": {},
     "output_type": "execute_result"
    }
   ],
   "source": [
    "df[df[\"intensity\"]>1].mean()[\"area\"]"
   ]
  },
  {
   "cell_type": "markdown",
   "metadata": {},
   "source": [
    "**c) Compute the following probability:**\n",
    "\n",
    "$$P(label=2 \\ | \\ height<7)$$   "
   ]
  },
  {
   "cell_type": "code",
   "execution_count": 18,
   "metadata": {},
   "outputs": [
    {
     "data": {
      "text/plain": [
       "0.2"
      ]
     },
     "execution_count": 18,
     "metadata": {},
     "output_type": "execute_result"
    }
   ],
   "source": [
    "n = ((df[\"height\"]<7) & (df[\"label\"]==2)).sum()\n",
    "d = (df[\"height\"]<7).sum()\n",
    "P = n/d\n",
    "P"
   ]
  },
  {
   "cell_type": "markdown",
   "metadata": {},
   "source": [
    "**d) Compute the following probability. Use the Naive Bayes technique.**\n",
    "$$P(label=l \\ | \\ intensity=2 \\land height<6.5)$$"
   ]
  },
  {
   "cell_type": "code",
   "execution_count": 20,
   "metadata": {},
   "outputs": [],
   "source": [
    "# P(C|X) = P(X|C) * P(C) / P(X)\n",
    "# Naive assumption: independence between features = P(C|X) = P(X1|C) * P(X2|C) * ... * P(XN|C) * P(C) * P(X)\n",
    "# We can remove P(X) because it's constant P(C|X) = P(X1|C) * P(X2|C) * ... * P(XN|C) * P(C) \n",
    "#P(label=1|intensity=2 ^ label=1) = P(intesnisty=2|lable=1) * P(heigth<6.5|label=1) * P(label=1)\n",
    "\n"
   ]
  },
  {
   "cell_type": "markdown",
   "metadata": {},
   "source": [
    "**e) Normalize columns with Sklearn standard scaler, fit a random forest**"
   ]
  },
  {
   "cell_type": "code",
   "execution_count": null,
   "metadata": {
    "scrolled": false
   },
   "outputs": [],
   "source": [
    "from sklearn.preprocessing import StandardScaler\n",
    "from sklearn.ensemble import RandomForestClassifier\n"
   ]
  },
  {
   "cell_type": "markdown",
   "metadata": {},
   "source": [
    "## 2) Working with Pandas and spatial data\n",
    "**a) Load dataframe with Points Of Interest (POIs)**"
   ]
  },
  {
   "cell_type": "code",
   "execution_count": null,
   "metadata": {},
   "outputs": [],
   "source": [
    "# This dictionary maps attributes in the table with correct data types\n",
    "d_types = {'@type':str, '@lat':float, '@lon':float, 'amenity':str, 'name':str, \n",
    "           'shop':str, 'public_transport':str, 'highway':str}\n",
    "# Read \"./pois_all_info\"\n",
    "all_pois_df = pd.read_csv(\"pois_all_info.csv\", sep='\\t', index_col='@id', dtype=d_types)"
   ]
  },
  {
   "cell_type": "code",
   "execution_count": null,
   "metadata": {},
   "outputs": [],
   "source": []
  },
  {
   "cell_type": "markdown",
   "metadata": {},
   "source": [
    "**b) Plot POIS on New-York map**"
   ]
  },
  {
   "cell_type": "code",
   "execution_count": null,
   "metadata": {},
   "outputs": [],
   "source": [
    "def plot_map(pois_df):\n",
    "    fig, ax = plt.subplots(figsize=(12,8))\n",
    "    nyc_img = plt.imread('./New_York_City_Map.PNG')\n",
    "    ax.imshow(nyc_img, zorder=0, extent=[-74.258, -73.7, 40.49,40.92])\n",
    "    ax.scatter(??, s=1)\n",
    "    plt.show()\n",
    "\n",
    "plot_map(all_pois_df)"
   ]
  },
  {
   "cell_type": "markdown",
   "metadata": {},
   "source": [
    "**c) Filter only POIS in NY municipality**\n",
    "- Plot the result on a map"
   ]
  },
  {
   "cell_type": "code",
   "execution_count": null,
   "metadata": {},
   "outputs": [],
   "source": [
    "# Read \"./data/ny_municipality_pois_id.csv\"\n",
    "ny_pois_ids = pd.read_csv(\"ny_municipality_pois_id.csv\", header=None)[0]"
   ]
  },
  {
   "cell_type": "code",
   "execution_count": null,
   "metadata": {},
   "outputs": [],
   "source": [
    "pois_df = ??"
   ]
  },
  {
   "cell_type": "code",
   "execution_count": null,
   "metadata": {},
   "outputs": [],
   "source": [
    "plot_map(pois_df)"
   ]
  },
  {
   "cell_type": "markdown",
   "metadata": {},
   "source": [
    "**d) Count top-frequent public_transport types**"
   ]
  },
  {
   "cell_type": "code",
   "execution_count": null,
   "metadata": {},
   "outputs": [],
   "source": [
    "top_freq = ??\n",
    "top_freq"
   ]
  },
  {
   "cell_type": "markdown",
   "metadata": {},
   "source": [
    "**e) Plot POIs with the two most frequent public transport types**"
   ]
  },
  {
   "cell_type": "code",
   "execution_count": null,
   "metadata": {},
   "outputs": [],
   "source": [
    "## Plot POIs on the map\n",
    "fig, ax = plt.subplots(figsize=(12,8))\n",
    "nyc_img = plt.imread('./New_York_City_Map.PNG')\n",
    "ax.imshow(nyc_img, zorder=0, extent=[-74.258, -73.7, 40.49,40.92])\n",
    "\n",
    "\n",
    "## TODO:\n",
    "\n",
    "plt.legend()\n",
    "plt.show()"
   ]
  }
 ],
 "metadata": {
  "kernelspec": {
   "display_name": "datasciencelab",
   "language": "python",
   "name": "python3"
  },
  "language_info": {
   "codemirror_mode": {
    "name": "ipython",
    "version": 3
   },
   "file_extension": ".py",
   "mimetype": "text/x-python",
   "name": "python",
   "nbconvert_exporter": "python",
   "pygments_lexer": "ipython3",
   "version": "3.10.4"
  },
  "vscode": {
   "interpreter": {
    "hash": "a6a6b3f448f90bb45d7a3915da81e272dd8863c5550b6e2c063dad7671e14a7e"
   }
  }
 },
 "nbformat": 4,
 "nbformat_minor": 2
}
