{
 "cells": [
  {
   "cell_type": "markdown",
   "metadata": {},
   "source": [
    "# Numpy Examples"
   ]
  },
  {
   "cell_type": "markdown",
   "metadata": {},
   "source": [
    "## 1) Computation with arrays"
   ]
  },
  {
   "cell_type": "markdown",
   "metadata": {},
   "source": [
    "### a) Sigmoid activation function of a vector"
   ]
  },
  {
   "cell_type": "code",
   "execution_count": 3,
   "metadata": {},
   "outputs": [],
   "source": [
    "import numpy as np\n",
    "x = np.array([4, -1, 7, 9, 3, -5])"
   ]
  },
  {
   "cell_type": "markdown",
   "metadata": {},
   "source": [
    "**Apply the Sigmoid activation function: $y = sigmoid(x)$**\n",
    "$$sigmoid(x_i) = \\frac{1}{1+exp(-x_i)}$$\n",
    "<img src='./sigmoid.png' width='40%'>"
   ]
  },
  {
   "cell_type": "code",
   "execution_count": null,
   "metadata": {},
   "outputs": [],
   "source": []
  },
  {
   "cell_type": "markdown",
   "metadata": {},
   "source": [
    "### b) Softmax activation function\n",
    "\n",
    "Activation function that normalizes the input vector (z) to a discrete probability distribution (values of the result add to 1).\n",
    "\n",
    "$$y_i = \\frac{exp(x_i)}{\\sum_j{exp(x_j)}}$$"
   ]
  },
  {
   "cell_type": "code",
   "execution_count": null,
   "metadata": {},
   "outputs": [],
   "source": []
  },
  {
   "cell_type": "markdown",
   "metadata": {},
   "source": [
    "## 2) Broadcasting: dataset normalization"
   ]
  },
  {
   "cell_type": "code",
   "execution_count": 4,
   "metadata": {},
   "outputs": [],
   "source": [
    "# Input table\n",
    "n_samples = 100\n",
    "n_columns = 5\n",
    "mean = 1\n",
    "std = 3\n",
    "X = np.random.normal(mean, std, (n_samples, n_columns))"
   ]
  },
  {
   "cell_type": "markdown",
   "metadata": {},
   "source": [
    "** Apply z-score: normalize each column by subtracting its mean and dividing by its standard deviation **"
   ]
  },
  {
   "cell_type": "code",
   "execution_count": 1,
   "metadata": {
    "scrolled": true
   },
   "outputs": [
    {
     "ename": "NameError",
     "evalue": "name 'X' is not defined",
     "output_type": "error",
     "traceback": [
      "\u001b[0;31m---------------------------------------------------------------------------\u001b[0m",
      "\u001b[0;31mNameError\u001b[0m                                 Traceback (most recent call last)",
      "\u001b[1;32m/Users/davidebuoso/Desktop/school/Data Science/FYear/data_science_lab/examples/exercises/ex2.ipynb Cella 12\u001b[0m in \u001b[0;36m<cell line: 1>\u001b[0;34m()\u001b[0m\n\u001b[0;32m----> <a href='vscode-notebook-cell:/Users/davidebuoso/Desktop/school/Data%20Science/FYear/data_science_lab/examples/exercises/ex2.ipynb#X14sZmlsZQ%3D%3D?line=0'>1</a>\u001b[0m X\n",
      "\u001b[0;31mNameError\u001b[0m: name 'X' is not defined"
     ]
    }
   ],
   "source": [
    "X"
   ]
  },
  {
   "cell_type": "markdown",
   "metadata": {},
   "source": [
    "## 3) Accessing Numpy Arrays"
   ]
  },
  {
   "cell_type": "code",
   "execution_count": 5,
   "metadata": {},
   "outputs": [],
   "source": [
    "#Input data\n",
    "import numpy as np\n",
    "\n",
    "# Input table (12 samples x 4 attributes)\n",
    "X = np.array([[5.1, 3.5, 1.4, 0.2],\n",
    "           [4.3, 3. , 1.1, 0.1],\n",
    "           [5. , 3.4, 1.6, 0.4],\n",
    "           [5.1, 3.4, 1.5, 0.2],\n",
    "           [6.9, 3.1, 4.9, 1.5],\n",
    "           [6.7, 3.1, 4.4, 1.4],\n",
    "           [6. , 2.9, 4.5, 1.5],\n",
    "           [6.1, 3. , 4.6, 1.4],\n",
    "           [6.5, 3. , 5.8, 2.2],\n",
    "           [7.7, 3.8, 6.7, 2.2],\n",
    "           [7.4, 2.8, 6.1, 1.9],\n",
    "           [6.8, 3.2, 5.9, 2.3]])\n",
    "# Column names\n",
    "columns = ['height','width','intensity','weight']\n",
    "\n",
    "# Class label of each sample\n",
    "labels = np.array([0, 0, 0, 0, 1, 1, 1, 1, 2, 2, 0, 2])"
   ]
  },
  {
   "cell_type": "code",
   "execution_count": 37,
   "metadata": {},
   "outputs": [
    {
     "data": {
      "text/plain": [
       "((12, 4), (12,))"
      ]
     },
     "execution_count": 37,
     "metadata": {},
     "output_type": "execute_result"
    }
   ],
   "source": [
    "X.shape, labels.shape"
   ]
  },
  {
   "cell_type": "code",
   "execution_count": 8,
   "metadata": {},
   "outputs": [],
   "source": [
    "# Get column indices\n",
    "height_i = columns.index('height')\n",
    "intensity_i = columns.index('intensity')"
   ]
  },
  {
   "cell_type": "markdown",
   "metadata": {},
   "source": [
    "**Compute the average height:**"
   ]
  },
  {
   "cell_type": "code",
   "execution_count": 15,
   "metadata": {},
   "outputs": [
    {
     "data": {
      "text/plain": [
       "6.133333333333334"
      ]
     },
     "execution_count": 15,
     "metadata": {},
     "output_type": "execute_result"
    }
   ],
   "source": [
    "X[:, height_i].mean()"
   ]
  },
  {
   "cell_type": "markdown",
   "metadata": {},
   "source": [
    "**Compute the average height of samples with intensity greater than 5:**"
   ]
  },
  {
   "cell_type": "code",
   "execution_count": 22,
   "metadata": {
    "scrolled": true
   },
   "outputs": [
    {
     "data": {
      "text/plain": [
       "7.1000000000000005"
      ]
     },
     "execution_count": 22,
     "metadata": {},
     "output_type": "execute_result"
    }
   ],
   "source": [
    "mask = X[:, intensity_i]>5 # this is a mask of values with intensity > 5\n",
    "X[mask, height_i].mean() # We pass the mask on the rows and the the index of height feature on the column"
   ]
  },
  {
   "cell_type": "markdown",
   "metadata": {},
   "source": [
    "**Compute the probability of class 2 if intensity>5**\n",
    "$$p = \\frac{\\#(intensity>5 \\land class2)}{\\#(intensity>5)}$$"
   ]
  },
  {
   "cell_type": "code",
   "execution_count": 38,
   "metadata": {},
   "outputs": [
    {
     "data": {
      "text/plain": [
       "0.75"
      ]
     },
     "execution_count": 38,
     "metadata": {},
     "output_type": "execute_result"
    }
   ],
   "source": [
    "# If we talk about classes -> y/labels arraya\n",
    "d = (X[:, intensity_i] > 5).sum() # we sum ones with zeroes\n",
    "\n",
    "n=((X[:, intensity_i] > 5)&(labels==2)).sum()\n",
    "\n",
    "p = n/d\n",
    "\n",
    "p\n"
   ]
  },
  {
   "cell_type": "markdown",
   "metadata": {},
   "source": [
    "**Print the height of the top 3 records with highest intensity:**"
   ]
  },
  {
   "cell_type": "code",
   "execution_count": 45,
   "metadata": {
    "scrolled": false
   },
   "outputs": [
    {
     "data": {
      "text/plain": [
       "array([11, 10,  9])"
      ]
     },
     "execution_count": 45,
     "metadata": {},
     "output_type": "execute_result"
    }
   ],
   "source": [
    "np.sort(X[:, intensity_i], axis=0)[-3:]\n",
    "\n",
    "X[np.argsort(X, axis=0)[:, intensity_i][-3:]]\n",
    "\n",
    "np.argsort(X[:,intensity_i])[-3:]"
   ]
  },
  {
   "cell_type": "code",
   "execution_count": null,
   "metadata": {},
   "outputs": [],
   "source": []
  }
 ],
 "metadata": {
  "kernelspec": {
   "display_name": "base",
   "language": "python",
   "name": "python3"
  },
  "language_info": {
   "codemirror_mode": {
    "name": "ipython",
    "version": 3
   },
   "file_extension": ".py",
   "mimetype": "text/x-python",
   "name": "python",
   "nbconvert_exporter": "python",
   "pygments_lexer": "ipython3",
   "version": "3.9.4"
  },
  "vscode": {
   "interpreter": {
    "hash": "86a85c2ddabd2f07bec0a819fc2b42ea44ddc6da4a90d847a99ae5a0a75d9675"
   }
  }
 },
 "nbformat": 4,
 "nbformat_minor": 2
}
