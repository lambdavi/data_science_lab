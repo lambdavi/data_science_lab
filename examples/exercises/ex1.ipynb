{
 "cells": [
  {
   "cell_type": "markdown",
   "metadata": {},
   "source": [
    "# Python Examples\n",
    "## 1) Removing list duplicates"
   ]
  },
  {
   "cell_type": "code",
   "execution_count": 1,
   "metadata": {},
   "outputs": [
    {
     "data": {
      "text/plain": [
       "[1, 2, 3, 4, 5, 6, 7]"
      ]
     },
     "execution_count": 1,
     "metadata": {},
     "output_type": "execute_result"
    }
   ],
   "source": [
    "l = [1,2,3,4,4,4,4,5,5,6,7,7]\n",
    "list(set(l))"
   ]
  },
  {
   "cell_type": "markdown",
   "metadata": {},
   "source": [
    "## 2) Euclidean distance between lists"
   ]
  },
  {
   "cell_type": "code",
   "execution_count": 9,
   "metadata": {},
   "outputs": [
    {
     "name": "stdout",
     "output_type": "stream",
     "text": [
      "3.0\n"
     ]
    }
   ],
   "source": [
    "x, y = [1,2,3], [2,4,5]\n",
    "\n",
    "dist = 0\n",
    "for x_i, y_i in zip(x,y):\n",
    "    dist += (x_i - y_i) ** 2\n",
    "\n",
    "# Alternative \n",
    "print(sum((x_i - y_i) ** 2 for x_i, y_i in zip(x,y))**0.5)"
   ]
  },
  {
   "cell_type": "markdown",
   "metadata": {},
   "source": [
    "## 3) Classes and lambda functions: rule-based classifier\n",
    "Write a rule based classifier that allows classifying samples based on rules provided by the user.\n",
    "- Each **sample** to be classified is a **dictionary**.\n",
    "- **Rules** specify the output class that should be assigned to the sample based on its dictionary fields\n",
    "- The classifier can take as input **more than one rule**\n",
    "- It should also request with its constructor a **default class** that is assigned when none of the rules apply to the sample\n",
    "\n",
    "**Example of sample:**\n",
    "my_sample = {'temperature' : 20, 'humidity' : 0.8}\n",
    "\n",
    "**Example of rule:**\n",
    "if temperature > 5 and humidity > 0.7 then class = 'Rainy'\n",
    "\n",
    "**Apply the classifier:**\n",
    "my_classifer.classify(my_sample)\n"
   ]
  },
  {
   "cell_type": "code",
   "execution_count": 43,
   "metadata": {},
   "outputs": [],
   "source": [
    "class RuleClassifier:\n",
    "    def __init__(self, default='No Classification') -> None:\n",
    "        self.default = default\n",
    "        self.__rules = []\n",
    "\n",
    "    def add_rule(self, rule, classification):\n",
    "        self.__rules.append((rule, classification))\n",
    "\n",
    "    def classify(self, sample):\n",
    "        for r, c in self.__rules:\n",
    "            if r(sample):\n",
    "                return c\n",
    "        return self.default\n",
    "\n"
   ]
  },
  {
   "cell_type": "markdown",
   "metadata": {},
   "source": [
    "**Example of creation and execution of the classifier:**"
   ]
  },
  {
   "cell_type": "code",
   "execution_count": 44,
   "metadata": {},
   "outputs": [
    {
     "name": "stdout",
     "output_type": "stream",
     "text": [
      "Sunny\n",
      "Rainy\n"
     ]
    }
   ],
   "source": [
    "# Creation\n",
    "rule_clf = RuleClassifier('Sunny')\n",
    "\n",
    "# Add rules\n",
    "rule_clf.add_rule(lambda x: x['temperature']>5 and x['humidity']>0.7, 'Rainy')\n",
    "rule_clf.add_rule(lambda x: x['temperature']<5 and x['humidity']>0.7, 'Snowy')\n",
    "rule_clf.add_rule(lambda x: x['temperature']>25 and x['humidity']>0.8, 'Foggy')\n",
    "\n",
    "# Perform classification\n",
    "print(rule_clf.classify({'temperature' : 30, 'humidity' : 0.4}))\n",
    "print(rule_clf.classify({'temperature' : 15, 'humidity' : 0.8}))"
   ]
  },
  {
   "cell_type": "markdown",
   "metadata": {},
   "source": [
    "## 4) Classes and exception handling: reading csv files\n",
    "Implement a class that reads a csv file with header and allows accessing data by column."
   ]
  },
  {
   "cell_type": "code",
   "execution_count": 49,
   "metadata": {},
   "outputs": [],
   "source": [
    "\n",
    "class Table:\n",
    "    def __init__(self, file_path):\n",
    "        # Step 1: {'ID': [], 'Name': [] ... }\n",
    "        # Step 2: {'ID': ['1', '2', '3'], 'Name': ['John', 'Alicia', 'Sam'] ... }\n",
    "        self.__columns = {}\n",
    "        with open(file_path, 'r') as f:\n",
    "            header = f.readline().strip().split(',')\n",
    "            \n",
    "            # Initialize the dictionary self.__columns\n",
    "            \n",
    "            self.__columns = {h:[] for h in header}\n",
    "            # Read lines\n",
    "            for line in f:\n",
    "                words = line.strip().split(',')\n",
    "                for i, h in enumerate(header):\n",
    "                    self.__columns[h].append(words[i])\n",
    "            \"\"\"\n",
    "            # Alternative\n",
    "            for line in f:\n",
    "                for column, value in zip(header, line.strip.split(','))\n",
    "                    self.__columns[column].append(value)\n",
    "            \n",
    "            \"\"\"\n",
    "            \n",
    "            print(self.__columns)\n",
    "            \n",
    "    \n",
    "    def get_column(self, column_name):\n",
    "        return self.__columns[column_name]"
   ]
  },
  {
   "cell_type": "code",
   "execution_count": 50,
   "metadata": {},
   "outputs": [
    {
     "name": "stdout",
     "output_type": "stream",
     "text": [
      "{'ID': ['1', '2', '3'], 'Name': ['John', 'Alicia', 'Sam'], 'Surname': ['Scarlet', 'White', 'Green'], 'Age': ['56', '78', '34']}\n",
      "['John', 'Alicia', 'Sam']\n"
     ]
    }
   ],
   "source": [
    "try:\n",
    "    table = Table('./ex1.csv')\n",
    "    print(table.get_column('Name'))\n",
    "except:\n",
    "    print(\"Error while loading table\")"
   ]
  }
 ],
 "metadata": {
  "kernelspec": {
   "display_name": "Python 3.9.4 ('base')",
   "language": "python",
   "name": "python3"
  },
  "language_info": {
   "codemirror_mode": {
    "name": "ipython",
    "version": 3
   },
   "file_extension": ".py",
   "mimetype": "text/x-python",
   "name": "python",
   "nbconvert_exporter": "python",
   "pygments_lexer": "ipython3",
   "version": "3.9.4"
  },
  "vscode": {
   "interpreter": {
    "hash": "86a85c2ddabd2f07bec0a819fc2b42ea44ddc6da4a90d847a99ae5a0a75d9675"
   }
  }
 },
 "nbformat": 4,
 "nbformat_minor": 2
}
