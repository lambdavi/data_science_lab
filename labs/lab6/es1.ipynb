{
 "cells": [
  {
   "cell_type": "code",
   "execution_count": null,
   "metadata": {},
   "outputs": [],
   "source": [
    "from sklearn.datasets import load_wine\n",
    "import numpy as np\n",
    "dataset = load_wine()\n",
    "X=dataset[\"data\"]  \n",
    "Y=dataset[\"target\"] "
   ]
  },
  {
   "cell_type": "code",
   "execution_count": null,
   "metadata": {},
   "outputs": [],
   "source": [
    "feature_names = dataset[\"feature_names\"]\n",
    "feature_names"
   ]
  },
  {
   "cell_type": "code",
   "execution_count": null,
   "metadata": {},
   "outputs": [],
   "source": [
    "X.shape"
   ]
  },
  {
   "cell_type": "code",
   "execution_count": null,
   "metadata": {},
   "outputs": [],
   "source": [
    "Y.shape"
   ]
  },
  {
   "cell_type": "code",
   "execution_count": null,
   "metadata": {},
   "outputs": [],
   "source": [
    "len(feature_names)"
   ]
  },
  {
   "cell_type": "code",
   "execution_count": null,
   "metadata": {},
   "outputs": [],
   "source": [
    "np.isnan(X).sum()\n"
   ]
  },
  {
   "cell_type": "code",
   "execution_count": null,
   "metadata": {},
   "outputs": [],
   "source": [
    "classes = np.unique(Y)\n",
    "for c in classes:\n",
    "    count = np.count_nonzero(Y == c)\n",
    "    print(f\"In class {c} there are {count}\")"
   ]
  },
  {
   "cell_type": "code",
   "execution_count": null,
   "metadata": {},
   "outputs": [],
   "source": [
    "from sklearn.tree import DecisionTreeClassifier\n",
    "\n",
    "clf = DecisionTreeClassifier()\n",
    "clf.fit(X,Y)"
   ]
  },
  {
   "cell_type": "code",
   "execution_count": null,
   "metadata": {},
   "outputs": [],
   "source": [
    "#%pip install pydot"
   ]
  },
  {
   "cell_type": "code",
   "execution_count": null,
   "metadata": {},
   "outputs": [],
   "source": [
    "\n",
    "import pydot\n",
    "from IPython.display import Image\n",
    "import graphviz\n",
    "from sklearn.tree import plot_tree, export_graphviz\n",
    "\n",
    "# First plotting method\n",
    "dot_code = export_graphviz(clf, feature_names=feature_names)\n",
    "graph = pydot.graph_from_dot_data(dot_code)\n",
    "Image(graph[0].create_png())"
   ]
  },
  {
   "cell_type": "code",
   "execution_count": null,
   "metadata": {},
   "outputs": [],
   "source": [
    "from graphviz import Source\n",
    "from sklearn import tree\n",
    "\n",
    "# Second plotting method\n",
    "Source(tree.export_graphviz(clf, out_file=None, feature_names=feature_names))"
   ]
  },
  {
   "cell_type": "code",
   "execution_count": null,
   "metadata": {},
   "outputs": [],
   "source": [
    "# Third plotting method\n",
    "plot = plot_tree(clf)"
   ]
  },
  {
   "cell_type": "code",
   "execution_count": null,
   "metadata": {},
   "outputs": [],
   "source": [
    "# POINT 4\n",
    "y_pred = clf.predict(X)\n",
    "\n",
    "from sklearn.metrics import accuracy_score\n",
    "\n",
    "accuracy_score(Y, y_pred)"
   ]
  },
  {
   "cell_type": "code",
   "execution_count": null,
   "metadata": {},
   "outputs": [],
   "source": [
    "from sklearn.model_selection import train_test_split\n",
    "\n",
    "X_train, X_test, y_train, y_test = train_test_split(X,Y, train_size=.8 )\n",
    "print(X_train.shape, X_test.shape, y_train.shape, y_test.shape  )  "
   ]
  },
  {
   "cell_type": "code",
   "execution_count": null,
   "metadata": {},
   "outputs": [],
   "source": [
    "clf_tts = DecisionTreeClassifier()\n",
    "clf_tts.fit(X_train, y_train)\n",
    "y_pred_tts = clf_tts.predict(X_test)\n",
    "accuracy_score(y_test, y_pred_tts)"
   ]
  },
  {
   "cell_type": "code",
   "execution_count": null,
   "metadata": {},
   "outputs": [],
   "source": [
    "from sklearn.metrics import precision_score, recall_score, f1_score, classification_report\n",
    "print(f\"Precision score: {precision_score(y_test, y_pred_tts, average=None)}\")\n",
    "print(f\"Recall score: {recall_score(y_test, y_pred_tts, average=None)}\")\n",
    "print(f\"f1 score: {f1_score(y_test, y_pred_tts, average=None)}\")  \n",
    "\n",
    "\n",
    "print(classification_report(y_test, y_pred_tts))\n"
   ]
  },
  {
   "cell_type": "code",
   "execution_count": null,
   "metadata": {},
   "outputs": [],
   "source": [
    "from sklearn.model_selection import ParameterGrid\n",
    "params = {\n",
    "    \"max_depth\": [None, 2, 4, 8],\n",
    "    \"splitter\": [\"best\", \"random\"],\n",
    "    \"criterion\": [\"gini\", \"entropy\", \"log_loss\"],\n",
    "    \"min_samples_split\": [2,3]\n",
    "}\n",
    "classifiers = []\n",
    "accs = []\n",
    "for i, config in enumerate(ParameterGrid(params)):\n",
    "    new_clf = DecisionTreeClassifier(**config)\n",
    "    new_clf.fit(X_train, y_train)\n",
    "    y_pred = new_clf.predict(X_test)  \n",
    "    print(f\"Classifier {i}: \", end=\"\")\n",
    "    #print(f\"Config: {config} \\n{classification_report(y_test, y_pred)}\")\n",
    "    acc = accuracy_score(y_test, y_pred)\n",
    "    print(f\"Acc: {acc}, Config: {config}\")\n",
    "    classifiers.append(new_clf)\n",
    "    accs.append(acc)\n",
    "\n",
    "index_best_clf = np.array(accs).argmax()\n",
    "best_clf = classifiers[index_best_clf]\n",
    "print(f\"Best classifier is the classifier {index_best_clf} with hyperparams: {ParameterGrid(params)[index_best_clf]} and accuracy: {accs[index_best_clf]}\")\n",
    "\n",
    "    "
   ]
  },
  {
   "cell_type": "code",
   "execution_count": null,
   "metadata": {},
   "outputs": [],
   "source": [
    "Source(tree.export_graphviz(best_clf, out_file=None, feature_names=feature_names))  # type: ignore"
   ]
  },
  {
   "cell_type": "code",
   "execution_count": null,
   "metadata": {},
   "outputs": [],
   "source": [
    "from sklearn.model_selection import KFold\n",
    "# Split the datasets into two:\n",
    "# - X_train_valid: the dataset used for the k-fold cross-validation\n",
    "# - X_test: the dataset used for the final testing (this will NOT\n",
    "# be seen by the classifier during the training/validation phases)\n",
    "X_train_valid, X_test, y_train_valid, y_test = train_test_split(X, Y)\n",
    "kf = KFold(5) # 5-fold cross-validation\n",
    "# X and y are the arrays to be split\n",
    "local_accuracy = []\n",
    "classifiers = []\n",
    "accs = []\n",
    "\n",
    "params = {\n",
    "    \"max_depth\": [None, 2, 4, 8],\n",
    "    \"splitter\": [\"best\", \"random\"],\n",
    "    \"criterion\": [\"gini\", \"entropy\", \"log_loss\"],\n",
    "    \"min_samples_split\": [2,3]\n",
    "}\n",
    "\n",
    "for i, config in enumerate(ParameterGrid(params)):\n",
    "    clf = DecisionTreeClassifier(**config)\n",
    "    print(f\"Classifier {i}: \", end=\"\")\n",
    "    classifiers.append(new_clf)\n",
    "    for train_indices, validation_indices in kf.split(X_train_valid):\n",
    "        X_train = X_train_valid[train_indices]\n",
    "        X_valid = X_train_valid[validation_indices]\n",
    "        y_train = y_train_valid[train_indices]\n",
    "        y_valid = y_train_valid[validation_indices]\n",
    "        clf.fit(X_train, y_train)\n",
    "        y_pred = clf.predict(X_valid)\n",
    "        acc = accuracy_score(y_valid, y_pred)\n",
    "        local_accuracy.append(acc)\n",
    "    \n",
    "    avg = np.array(local_accuracy).mean()\n",
    "    print(f\"Average Accuracy of {i}-classifier: {avg}. Config: {config}\")\n",
    "    accs.append(avg)\n",
    "\n",
    "\n",
    "i_best = np.array(accs).argmax()\n",
    "best_k_clf = classifiers[i_best]\n",
    "classifiers[i_best].fit(X_train_valid, y_train_valid)\n",
    "\n",
    "pred = best_k_clf.predict(X_test)\n",
    "print(f\"Accuracy on new data of Best Classifier ({i_best}): {accuracy_score(y_test, pred)}\")\n",
    "Source(tree.export_graphviz(best_k_clf, out_file=None, feature_names=feature_names))  # type: ignore\n"
   ]
  },
  {
   "cell_type": "code",
   "execution_count": null,
   "metadata": {},
   "outputs": [],
   "source": []
  },
  {
   "cell_type": "code",
   "execution_count": null,
   "metadata": {},
   "outputs": [],
   "source": []
  }
 ],
 "metadata": {
  "kernelspec": {
   "display_name": "datasciencelab",
   "language": "python",
   "name": "python3"
  },
  "language_info": {
   "codemirror_mode": {
    "name": "ipython",
    "version": 3
   },
   "file_extension": ".py",
   "mimetype": "text/x-python",
   "name": "python",
   "nbconvert_exporter": "python",
   "pygments_lexer": "ipython3",
   "version": "3.10.4 (main, Mar 31 2022, 03:37:37) [Clang 12.0.0 ]"
  },
  "orig_nbformat": 4,
  "vscode": {
   "interpreter": {
    "hash": "a6a6b3f448f90bb45d7a3915da81e272dd8863c5550b6e2c063dad7671e14a7e"
   }
  }
 },
 "nbformat": 4,
 "nbformat_minor": 2
}
