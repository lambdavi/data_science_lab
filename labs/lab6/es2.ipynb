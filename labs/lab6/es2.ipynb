{
 "cells": [
  {
   "cell_type": "code",
   "execution_count": null,
   "metadata": {},
   "outputs": [],
   "source": [
    "from matplotlib.cm import get_cmap\n",
    "import pandas as pd\n",
    "import matplotlib.pyplot as plt\n",
    "import numpy as np\n",
    "%matplotlib inline\n",
    "dataset = pd.read_csv(\"2d-synthetic.csv\")\n",
    "classes = dataset[\"label\"].unique()\n",
    "cmap = get_cmap('spring')\n",
    "fig, ax = plt.subplots()\n",
    "colors = cmap(np.linspace(0,1,classes.size))\n",
    "for i, c in enumerate(classes):\n",
    "    df = dataset[dataset['label']==c]\n",
    "    co = [colors[i]] * df.shape[0]\n",
    "    df.plot.scatter(x='x0', y='x1', ax=ax, c=co, alpha=.6, label=c)\n",
    "    ax.legend()\n",
    "plt.show()"
   ]
  },
  {
   "cell_type": "code",
   "execution_count": null,
   "metadata": {},
   "outputs": [],
   "source": [
    "# METODO INTELLIGENTE\n",
    "import seaborn as sns\n",
    "sns.scatterplot(data=dataset, x='x0', y='x1',hue='label', palette=sns.color_palette(\"tab20\")[:classes.size])\n"
   ]
  },
  {
   "cell_type": "code",
   "execution_count": null,
   "metadata": {},
   "outputs": [],
   "source": [
    "from sklearn.model_selection import train_test_split\n",
    "from sklearn.metrics import accuracy_score\n",
    "from sklearn.tree import DecisionTreeClassifier, export_graphviz\n",
    "from graphviz import Source\n",
    "\n",
    "X=dataset[[\"x0\",\"x1\"]]\n",
    "Y=dataset[\"label\"]\n",
    "X_train, X_test, y_train, y_test = train_test_split(X,Y, test_size=0.2)\n",
    "\n",
    "clf = DecisionTreeClassifier()\n",
    "clf.fit(X_train,y_train)\n",
    "y_pred = clf.predict(X_test)\n",
    "print(accuracy_score(y_test, y_pred))\n",
    "Source(export_graphviz(clf, out_file=None, feature_names=[\"x0\",\"x1\"]))\n"
   ]
  },
  {
   "cell_type": "code",
   "execution_count": null,
   "metadata": {},
   "outputs": [],
   "source": [
    "ax=sns.scatterplot(data=dataset, x='x0', y='x1',hue='label', palette=sns.color_palette(\"dark\"))\n",
    "\n",
    "for x,y in zip(clf.tree_.feature, clf.tree_.threshold):\n",
    "    if x==0:\n",
    "        ax.axvline(y, color='r')\n",
    "    elif x==1:\n",
    "        ax.axhline(y, color='b')\n",
    "    else:\n",
    "        continue\n"
   ]
  },
  {
   "cell_type": "code",
   "execution_count": null,
   "metadata": {},
   "outputs": [],
   "source": []
  }
 ],
 "metadata": {
  "kernelspec": {
   "display_name": "datasciencelab",
   "language": "python",
   "name": "python3"
  },
  "language_info": {
   "codemirror_mode": {
    "name": "ipython",
    "version": 3
   },
   "file_extension": ".py",
   "mimetype": "text/x-python",
   "name": "python",
   "nbconvert_exporter": "python",
   "pygments_lexer": "ipython3",
   "version": "3.10.4 (main, Mar 31 2022, 03:37:37) [Clang 12.0.0 ]"
  },
  "orig_nbformat": 4,
  "vscode": {
   "interpreter": {
    "hash": "a6a6b3f448f90bb45d7a3915da81e272dd8863c5550b6e2c063dad7671e14a7e"
   }
  }
 },
 "nbformat": 4,
 "nbformat_minor": 2
}
