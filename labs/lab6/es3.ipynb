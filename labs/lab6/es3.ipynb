{
 "cells": [
  {
   "cell_type": "code",
   "execution_count": null,
   "metadata": {},
   "outputs": [],
   "source": [
    "# Imports\n",
    "import pandas as pd\n",
    "from sklearn.model_selection import train_test_split\n",
    "from sklearn.datasets import fetch_openml\n",
    "from sklearn.tree import DecisionTreeClassifier\n",
    "from sklearn.metrics import accuracy_score\n",
    "import numpy as np\n",
    "from scipy.stats import mode\n"
   ]
  },
  {
   "cell_type": "code",
   "execution_count": null,
   "metadata": {},
   "outputs": [],
   "source": [
    "class MyRandomForestClassifier():\n",
    "    def __init__(self, n_estimators=10, max_features='sqrt'):\n",
    "        self.forest = [DecisionTreeClassifier(max_features=max_features) for _ in range(n_estimators)]\n",
    "    # train the trees of this random forest using subsets of X (and y)\n",
    "    def fit(self, X, y):\n",
    "        for tree in self.forest:\n",
    "            X_new = X.sample(frac=0.623, random_state=32)\n",
    "            #subset = np.random.choice(range(X.shape[0]), size=X.shape[0], replace=True)\n",
    "            tree.fit(X_new, y[X_new.index])\n",
    "\n",
    "    # predict the label for each point in X\n",
    "    def predict(self, X):\n",
    "        predictions = [ tree.predict(X) for tree in self.forest ] \n",
    "        return pd.DataFrame(predictions, columns=range(0,10000)).mode(axis=0)\n",
    "\n",
    "    def compute_feat_imp(self):\n",
    "        fi_trees = np.array([tree.feature_importances_ for tree in self.forest])\n",
    "        return fi_trees.sum(axis=0) / fi_trees.sum()\n",
    "\n",
    "\n"
   ]
  },
  {
   "cell_type": "code",
   "execution_count": null,
   "metadata": {},
   "outputs": [],
   "source": [
    "# Reading MNIST dataset\n",
    "dataset = fetch_openml(\"mnist_784\")\n",
    "X = dataset[\"data\"]\n",
    "y = dataset[\"target\"]"
   ]
  },
  {
   "cell_type": "code",
   "execution_count": null,
   "metadata": {},
   "outputs": [],
   "source": [
    "X_train, X_test, y_train, y_test = train_test_split(X, y, train_size=60000)\n",
    "my_clf = MyRandomForestClassifier(10)\n",
    "my_clf.fit(X_train, y_train)\n",
    "y_pred_n = my_clf.predict(X_test).iloc[0]\n",
    "print(f\"Accuracy wih {10} trees: {accuracy_score(y_test, y_pred_n)}\")"
   ]
  },
  {
   "cell_type": "code",
   "execution_count": null,
   "metadata": {},
   "outputs": [],
   "source": [
    "for i in range(10,101,10):\n",
    "    my_clf = MyRandomForestClassifier(i)\n",
    "    my_clf.fit(X_train, y_train)\n",
    "    y_pred = my_clf.predict(X_test).iloc[0]\n",
    "    print(f\"Accuracy wih {i} trees: {accuracy_score(y_test, y_pred)}\")"
   ]
  },
  {
   "cell_type": "code",
   "execution_count": null,
   "metadata": {},
   "outputs": [],
   "source": [
    "from sklearn.ensemble import RandomForestClassifier\n",
    "skl_clf = RandomForestClassifier(100)\n",
    "skl_clf.fit(X_train, y_train)\n",
    "y_s_predict = skl_clf.predict(X_test)\n",
    "print(accuracy_score(y_test, y_s_predict))"
   ]
  },
  {
   "cell_type": "code",
   "execution_count": null,
   "metadata": {},
   "outputs": [],
   "source": [
    "X.columns"
   ]
  },
  {
   "cell_type": "code",
   "execution_count": null,
   "metadata": {},
   "outputs": [],
   "source": [
    "feat_imp = my_clf.compute_feat_imp()\n",
    "len(feat_imp)"
   ]
  },
  {
   "cell_type": "code",
   "execution_count": null,
   "metadata": {},
   "outputs": [],
   "source": [
    "import seaborn as sns\n",
    "# This is the result from the previous exercise\n",
    "feature_importances = feat_imp\n",
    "sns.heatmap(np.reshape(feature_importances, (28,28)), cmap='binary')"
   ]
  },
  {
   "cell_type": "code",
   "execution_count": null,
   "metadata": {},
   "outputs": [],
   "source": [
    "s_feat_imp = skl_clf.feature_importances_\n",
    "sns.heatmap(np.reshape(s_feat_imp, (28,28)), cmap='binary')"
   ]
  },
  {
   "cell_type": "code",
   "execution_count": null,
   "metadata": {},
   "outputs": [],
   "source": []
  }
 ],
 "metadata": {
  "kernelspec": {
   "display_name": "datasciencelab",
   "language": "python",
   "name": "python3"
  },
  "language_info": {
   "codemirror_mode": {
    "name": "ipython",
    "version": 3
   },
   "file_extension": ".py",
   "mimetype": "text/x-python",
   "name": "python",
   "nbconvert_exporter": "python",
   "pygments_lexer": "ipython3",
   "version": "3.10.4"
  },
  "orig_nbformat": 4,
  "vscode": {
   "interpreter": {
    "hash": "a6a6b3f448f90bb45d7a3915da81e272dd8863c5550b6e2c063dad7671e14a7e"
   }
  }
 },
 "nbformat": 4,
 "nbformat_minor": 2
}
