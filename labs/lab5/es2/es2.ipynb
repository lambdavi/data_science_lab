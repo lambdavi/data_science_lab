{
 "cells": [
  {
   "cell_type": "code",
   "execution_count": null,
   "metadata": {},
   "outputs": [],
   "source": [
    "import pandas as pd\n",
    "import numpy as np\n",
    "\n",
    "fd = pd.read_csv(\"data.csv\", parse_dates=[0])\n",
    "print(fd.info())\n",
    "print(fd.describe())"
   ]
  },
  {
   "cell_type": "code",
   "execution_count": null,
   "metadata": {},
   "outputs": [],
   "source": [
    "#fd = fd.drop(\"Unnamed: 32\", axis=1)\n",
    "\n",
    "print(len(fd[\"UNIQUE_CARRIER\"].unique()))\n",
    "d_air = fd[\"DEST\"].unique()\n",
    "o_air = fd[\"ORIGIN\"].unique()\n",
    "print(len(np.intersect1d(d_air, o_air)))\n",
    "print(f\"INTERVAL: from {fd['FL_DATE'].min()} to {fd['FL_DATE'].max()}\")"
   ]
  },
  {
   "cell_type": "code",
   "execution_count": null,
   "metadata": {},
   "outputs": [],
   "source": [
    "fd = fd[fd[\"CANCELLED\"]==0]\n",
    "fd.head()\n"
   ]
  },
  {
   "cell_type": "code",
   "execution_count": null,
   "metadata": {},
   "outputs": [],
   "source": [
    "fd.groupby(by=\"UNIQUE_CARRIER\").size()"
   ]
  },
  {
   "cell_type": "code",
   "execution_count": null,
   "metadata": {},
   "outputs": [],
   "source": [
    "fd.pivot_table(index=\"UNIQUE_CARRIER\", values=[\"CARRIER_DELAY\",\"WEATHER_DELAY\",\"NAS_DELAY\",\"SECURITY_DELAY\",\"LATE_AIRCRAFT_DELAY\"], aggfunc=np.mean)"
   ]
  },
  {
   "cell_type": "code",
   "execution_count": null,
   "metadata": {},
   "outputs": [],
   "source": [
    "fd=fd.assign(weekday=lambda x: x[\"FL_DATE\"].dt.day_of_week)\n",
    "#print(fd[[\"FL_DATE\", \"weekday\"]])\n",
    "\n",
    "\n",
    "fd=fd.assign(delaydelta=lambda x: x[\"ARR_DELAY\"]-x[\"DEP_DELAY\"])\n",
    "#print(fd[[\"DEP_DELAY\", \"ARR_DELAY\", \"delaydelta\"]])\n",
    "\n",
    "arr_delay = fd[\"ARR_DELAY\"]\n",
    "dow = fd[\"weekday\"]\n",
    "\n",
    "import seaborn as sns\n",
    "delay_dow = pd.concat([arr_delay, dow], axis=1)\n",
    "print(delay_dow)\n",
    "delay_dow_corr = delay_dow.corr()\n",
    "print(delay_dow_corr)\n",
    "\n",
    "sns.heatmap(delay_dow_corr)\n",
    "\n"
   ]
  },
  {
   "cell_type": "code",
   "execution_count": null,
   "metadata": {},
   "outputs": [],
   "source": [
    "weekend_fd = fd[fd[\"weekday\"]>=5][[\"UNIQUE_CARRIER\", \"ARR_DELAY\"]]\n",
    "normaldays_fd = fd[fd[\"weekday\"]<5][[\"UNIQUE_CARRIER\", \"ARR_DELAY\"]]\n",
    "\n",
    "weekend_fd = weekend_fd.groupby(by=\"UNIQUE_CARRIER\").mean()\n",
    "normaldays_fd = normaldays_fd.groupby(by=\"UNIQUE_CARRIER\").mean()"
   ]
  },
  {
   "cell_type": "code",
   "execution_count": null,
   "metadata": {},
   "outputs": [],
   "source": [
    "new_df = weekend_fd.merge(normaldays_fd, on=\"UNIQUE_CARRIER\").rename(columns={'ARR_DELAY_x': 'ARR_DELAY_weekend', 'ARR_DELAY_y': 'ARR_DELAY_week'})\n",
    "print(new_df)\n",
    "weekend_fd.name=\"weekend delay\"\n",
    "normaldays_fd.name=\"working days delay\"\n",
    "ax = pd.concat([normaldays_fd, weekend_fd], axis=1).plot.bar()\n",
    "ax.grid(True)\n"
   ]
  },
  {
   "cell_type": "code",
   "execution_count": null,
   "metadata": {},
   "outputs": [],
   "source": [
    "multi_df = fd.set_index(['UNIQUE_CARRIER', 'ORIGIN', 'DEST', 'FL_DATE']).sort_index()\n",
    "multi_df.head()\n"
   ]
  },
  {
   "cell_type": "code",
   "execution_count": null,
   "metadata": {},
   "outputs": [],
   "source": [
    "multi_df.loc[(['AA', 'DL'], ['LAX']), ['DEP_TIME', 'DEP_DELAY']]"
   ]
  },
  {
   "cell_type": "code",
   "execution_count": null,
   "metadata": {},
   "outputs": [],
   "source": [
    "fw_df = multi_df.loc[(slice(None), slice(None), 'LAX', slice('2017-01-01','2017-01-08')), :]\n",
    "fw_df.groupby(\"FL_NUM\")[\"ARR_DELAY\"].mean()"
   ]
  },
  {
   "cell_type": "code",
   "execution_count": null,
   "metadata": {},
   "outputs": [],
   "source": [
    "fd.pivot_table(index=[\"UNIQUE_CARRIER\", \"weekday\"], values=\"FL_NUM\", aggfunc=\"count\")"
   ]
  },
  {
   "cell_type": "code",
   "execution_count": null,
   "metadata": {},
   "outputs": [],
   "source": [
    "cfd = fd.pivot_table(index=\"UNIQUE_CARRIER\", columns=\"weekday\", values=\"FL_NUM\", aggfunc=\"count\")"
   ]
  },
  {
   "cell_type": "code",
   "execution_count": null,
   "metadata": {},
   "outputs": [],
   "source": [
    "sns.heatmap(cfd.T.corr())"
   ]
  },
  {
   "cell_type": "code",
   "execution_count": null,
   "metadata": {},
   "outputs": [],
   "source": [
    "cwm = fd.pivot_table(index=\"UNIQUE_CARRIER\", columns=\"weekday\", values=\"ARR_DELAY\", aggfunc=\"mean\")\n",
    "cwm"
   ]
  },
  {
   "cell_type": "code",
   "execution_count": null,
   "metadata": {},
   "outputs": [],
   "source": [
    "sns.heatmap(cwm.T.corr())"
   ]
  },
  {
   "cell_type": "code",
   "execution_count": null,
   "metadata": {},
   "outputs": [],
   "source": [
    "df13 = fd[fd[\"UNIQUE_CARRIER\"].isin([\"HA\", \"DL\", \"AA\", \"AS\"])]\n",
    "#print(df13.head())\n",
    "df13_pt = df13.pivot_table(index=\"UNIQUE_CARRIER\", columns=\"weekday\", values=\"delaydelta\", aggfunc=\"mean\")\n",
    "df13_pt\n"
   ]
  },
  {
   "cell_type": "code",
   "execution_count": null,
   "metadata": {},
   "outputs": [],
   "source": [
    "df13_pt.T.plot()"
   ]
  },
  {
   "cell_type": "code",
   "execution_count": null,
   "metadata": {},
   "outputs": [],
   "source": []
  }
 ],
 "metadata": {
  "kernelspec": {
   "display_name": "datasciencelab",
   "language": "python",
   "name": "python3"
  },
  "language_info": {
   "codemirror_mode": {
    "name": "ipython",
    "version": 3
   },
   "file_extension": ".py",
   "mimetype": "text/x-python",
   "name": "python",
   "nbconvert_exporter": "python",
   "pygments_lexer": "ipython3",
   "version": "3.10.4"
  },
  "orig_nbformat": 4,
  "vscode": {
   "interpreter": {
    "hash": "a6a6b3f448f90bb45d7a3915da81e272dd8863c5550b6e2c063dad7671e14a7e"
   }
  }
 },
 "nbformat": 4,
 "nbformat_minor": 2
}
